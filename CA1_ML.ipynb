{
 "cells": [
  {
   "cell_type": "markdown",
   "id": "39c2ba05",
   "metadata": {},
   "source": [
    "                                        Fabio Teixeira Ramos\n",
    "                                            2020367\n",
    "\n",
    "                            A Report Submitted in Partial Fulfilment \n",
    "                                    of the requirements for the \n",
    "                                            Degree of \n",
    "                                BSc in Computing in IT (4th year)\n",
    "\n",
    "\n",
    "\n",
    " \n",
    "\n",
    "                                             May 2024\n",
    "\n",
    "\n",
    "\n",
    "                                      Supervisor: David McQuaid\n",
    "\n"
   ]
  },
  {
   "cell_type": "code",
   "execution_count": 39,
   "id": "84cfe15c",
   "metadata": {},
   "outputs": [],
   "source": [
    "import pandas as pd\n",
    "from imblearn.over_sampling import RandomOverSampler\n",
    "from collections import Counter\n",
    "import matplotlib.pyplot as plt\n",
    "import warnings\n",
    "warnings.filterwarnings(\"ignore\")"
   ]
  },
  {
   "cell_type": "markdown",
   "id": "f98cd5e1",
   "metadata": {},
   "source": [
    "import pandas as pd  # Imports the Pandas library to work with tabular data (DataFrames)\n",
    "from imblearn.over_sampling import RandomOverSampler  # Imports a technique to balance imbalanced classes by duplicating samples from the minority class\n",
    "from collections import Counter  # Imports a tool to count the occurrences of each item in a collection\n",
    "import matplotlib.pyplot as plt  # Imports a library for creating plots and visualizations\n",
    "import warnings  # Imports the library to manage warnings in Python\n",
    "\n",
    "#Ignores all warnings to avoid unnecessary messages in the console\n",
    "warnings.filterwarnings(\"ignore\")"
   ]
  },
  {
   "cell_type": "code",
   "execution_count": 40,
   "id": "9392a163",
   "metadata": {},
   "outputs": [],
   "source": [
    "df = pd.read_csv(\"FireWall\\log2 (1).csv\")"
   ]
  },
  {
   "cell_type": "markdown",
   "id": "2091a3a6",
   "metadata": {},
   "source": [
    "i stated the data Analyze using .info  check the number of entries, data types, and for missing values"
   ]
  },
  {
   "cell_type": "code",
   "execution_count": 41,
   "id": "5ba5d972",
   "metadata": {},
   "outputs": [
    {
     "name": "stdout",
     "output_type": "stream",
     "text": [
      "<class 'pandas.core.frame.DataFrame'>\n",
      "RangeIndex: 65532 entries, 0 to 65531\n",
      "Data columns (total 12 columns):\n",
      " #   Column                Non-Null Count  Dtype \n",
      "---  ------                --------------  ----- \n",
      " 0   Source Port           65532 non-null  int64 \n",
      " 1   Destination Port      65532 non-null  int64 \n",
      " 2   NAT Source Port       65532 non-null  int64 \n",
      " 3   NAT Destination Port  65532 non-null  int64 \n",
      " 4   Bytes                 65532 non-null  int64 \n",
      " 5   Bytes Sent            65532 non-null  int64 \n",
      " 6   Bytes Received        65532 non-null  int64 \n",
      " 7   Packets               65532 non-null  int64 \n",
      " 8   Elapsed Time (sec)    65532 non-null  int64 \n",
      " 9   pkts_sent             65532 non-null  int64 \n",
      " 10  pkts_received         65532 non-null  int64 \n",
      " 11  Action                65532 non-null  object\n",
      "dtypes: int64(11), object(1)\n",
      "memory usage: 6.0+ MB\n"
     ]
    }
   ],
   "source": [
    "df.info()"
   ]
  },
  {
   "cell_type": "markdown",
   "id": "73330e4b",
   "metadata": {},
   "source": [
    "Provides an overview of the DataFrame, showing the number of columns, \n",
    "the data types, the number of non-null values in each column,\n",
    "and the memory usage of the DataFrame."
   ]
  },
  {
   "cell_type": "markdown",
   "id": "10b423ed",
   "metadata": {},
   "source": [
    "df.head() to see an overview of the structure."
   ]
  },
  {
   "cell_type": "code",
   "execution_count": 42,
   "id": "41db8896",
   "metadata": {},
   "outputs": [
    {
     "data": {
      "text/html": [
       "<div>\n",
       "<style scoped>\n",
       "    .dataframe tbody tr th:only-of-type {\n",
       "        vertical-align: middle;\n",
       "    }\n",
       "\n",
       "    .dataframe tbody tr th {\n",
       "        vertical-align: top;\n",
       "    }\n",
       "\n",
       "    .dataframe thead th {\n",
       "        text-align: right;\n",
       "    }\n",
       "</style>\n",
       "<table border=\"1\" class=\"dataframe\">\n",
       "  <thead>\n",
       "    <tr style=\"text-align: right;\">\n",
       "      <th></th>\n",
       "      <th>Source Port</th>\n",
       "      <th>Destination Port</th>\n",
       "      <th>NAT Source Port</th>\n",
       "      <th>NAT Destination Port</th>\n",
       "      <th>Bytes</th>\n",
       "      <th>Bytes Sent</th>\n",
       "      <th>Bytes Received</th>\n",
       "      <th>Packets</th>\n",
       "      <th>Elapsed Time (sec)</th>\n",
       "      <th>pkts_sent</th>\n",
       "      <th>pkts_received</th>\n",
       "      <th>Action</th>\n",
       "    </tr>\n",
       "  </thead>\n",
       "  <tbody>\n",
       "    <tr>\n",
       "      <th>0</th>\n",
       "      <td>57222</td>\n",
       "      <td>53</td>\n",
       "      <td>54587</td>\n",
       "      <td>53</td>\n",
       "      <td>177</td>\n",
       "      <td>94</td>\n",
       "      <td>83</td>\n",
       "      <td>2</td>\n",
       "      <td>30</td>\n",
       "      <td>1</td>\n",
       "      <td>1</td>\n",
       "      <td>allow</td>\n",
       "    </tr>\n",
       "    <tr>\n",
       "      <th>1</th>\n",
       "      <td>56258</td>\n",
       "      <td>3389</td>\n",
       "      <td>56258</td>\n",
       "      <td>3389</td>\n",
       "      <td>4768</td>\n",
       "      <td>1600</td>\n",
       "      <td>3168</td>\n",
       "      <td>19</td>\n",
       "      <td>17</td>\n",
       "      <td>10</td>\n",
       "      <td>9</td>\n",
       "      <td>allow</td>\n",
       "    </tr>\n",
       "    <tr>\n",
       "      <th>2</th>\n",
       "      <td>6881</td>\n",
       "      <td>50321</td>\n",
       "      <td>43265</td>\n",
       "      <td>50321</td>\n",
       "      <td>238</td>\n",
       "      <td>118</td>\n",
       "      <td>120</td>\n",
       "      <td>2</td>\n",
       "      <td>1199</td>\n",
       "      <td>1</td>\n",
       "      <td>1</td>\n",
       "      <td>allow</td>\n",
       "    </tr>\n",
       "    <tr>\n",
       "      <th>3</th>\n",
       "      <td>50553</td>\n",
       "      <td>3389</td>\n",
       "      <td>50553</td>\n",
       "      <td>3389</td>\n",
       "      <td>3327</td>\n",
       "      <td>1438</td>\n",
       "      <td>1889</td>\n",
       "      <td>15</td>\n",
       "      <td>17</td>\n",
       "      <td>8</td>\n",
       "      <td>7</td>\n",
       "      <td>allow</td>\n",
       "    </tr>\n",
       "    <tr>\n",
       "      <th>4</th>\n",
       "      <td>50002</td>\n",
       "      <td>443</td>\n",
       "      <td>45848</td>\n",
       "      <td>443</td>\n",
       "      <td>25358</td>\n",
       "      <td>6778</td>\n",
       "      <td>18580</td>\n",
       "      <td>31</td>\n",
       "      <td>16</td>\n",
       "      <td>13</td>\n",
       "      <td>18</td>\n",
       "      <td>allow</td>\n",
       "    </tr>\n",
       "  </tbody>\n",
       "</table>\n",
       "</div>"
      ],
      "text/plain": [
       "   Source Port  Destination Port  NAT Source Port  NAT Destination Port  \\\n",
       "0        57222                53            54587                    53   \n",
       "1        56258              3389            56258                  3389   \n",
       "2         6881             50321            43265                 50321   \n",
       "3        50553              3389            50553                  3389   \n",
       "4        50002               443            45848                   443   \n",
       "\n",
       "   Bytes  Bytes Sent  Bytes Received  Packets  Elapsed Time (sec)  pkts_sent  \\\n",
       "0    177          94              83        2                  30          1   \n",
       "1   4768        1600            3168       19                  17         10   \n",
       "2    238         118             120        2                1199          1   \n",
       "3   3327        1438            1889       15                  17          8   \n",
       "4  25358        6778           18580       31                  16         13   \n",
       "\n",
       "   pkts_received Action  \n",
       "0              1  allow  \n",
       "1              9  allow  \n",
       "2              1  allow  \n",
       "3              7  allow  \n",
       "4             18  allow  "
      ]
     },
     "execution_count": 42,
     "metadata": {},
     "output_type": "execute_result"
    }
   ],
   "source": [
    "df.head()"
   ]
  },
  {
   "cell_type": "code",
   "execution_count": 43,
   "id": "222d56c4",
   "metadata": {},
   "outputs": [
    {
     "data": {
      "text/plain": [
       "Source Port             0\n",
       "Destination Port        0\n",
       "NAT Source Port         0\n",
       "NAT Destination Port    0\n",
       "Bytes                   0\n",
       "Bytes Sent              0\n",
       "Bytes Received          0\n",
       "Packets                 0\n",
       "Elapsed Time (sec)      0\n",
       "pkts_sent               0\n",
       "pkts_received           0\n",
       "Action                  0\n",
       "dtype: int64"
      ]
     },
     "execution_count": 43,
     "metadata": {},
     "output_type": "execute_result"
    }
   ],
   "source": [
    "df.isnull().sum()"
   ]
  },
  {
   "cell_type": "markdown",
   "id": "0f6e22e5",
   "metadata": {},
   "source": [
    "because the .isnull show all outcome zero that means the data has no miss valus. what is good for us."
   ]
  },
  {
   "cell_type": "code",
   "execution_count": 44,
   "id": "dd0a5b19",
   "metadata": {},
   "outputs": [],
   "source": [
    "pd.options.display.float_format = \"{:,.2f}\".format"
   ]
  },
  {
   "cell_type": "markdown",
   "id": "6cbfd28e",
   "metadata": {},
   "source": [
    "i did the options.display in order to have 2 decmal format "
   ]
  },
  {
   "cell_type": "code",
   "execution_count": 45,
   "id": "dbca25e9",
   "metadata": {},
   "outputs": [
    {
     "data": {
      "text/html": [
       "<div>\n",
       "<style scoped>\n",
       "    .dataframe tbody tr th:only-of-type {\n",
       "        vertical-align: middle;\n",
       "    }\n",
       "\n",
       "    .dataframe tbody tr th {\n",
       "        vertical-align: top;\n",
       "    }\n",
       "\n",
       "    .dataframe thead th {\n",
       "        text-align: right;\n",
       "    }\n",
       "</style>\n",
       "<table border=\"1\" class=\"dataframe\">\n",
       "  <thead>\n",
       "    <tr style=\"text-align: right;\">\n",
       "      <th></th>\n",
       "      <th>Source Port</th>\n",
       "      <th>Destination Port</th>\n",
       "      <th>NAT Source Port</th>\n",
       "      <th>NAT Destination Port</th>\n",
       "      <th>Bytes</th>\n",
       "      <th>Bytes Sent</th>\n",
       "      <th>Bytes Received</th>\n",
       "      <th>Packets</th>\n",
       "      <th>Elapsed Time (sec)</th>\n",
       "      <th>pkts_sent</th>\n",
       "      <th>pkts_received</th>\n",
       "    </tr>\n",
       "  </thead>\n",
       "  <tbody>\n",
       "    <tr>\n",
       "      <th>count</th>\n",
       "      <td>65,532.00</td>\n",
       "      <td>65,532.00</td>\n",
       "      <td>65,532.00</td>\n",
       "      <td>65,532.00</td>\n",
       "      <td>65,532.00</td>\n",
       "      <td>65,532.00</td>\n",
       "      <td>65,532.00</td>\n",
       "      <td>65,532.00</td>\n",
       "      <td>65,532.00</td>\n",
       "      <td>65,532.00</td>\n",
       "      <td>65,532.00</td>\n",
       "    </tr>\n",
       "    <tr>\n",
       "      <th>mean</th>\n",
       "      <td>49,391.97</td>\n",
       "      <td>10,577.39</td>\n",
       "      <td>19,282.97</td>\n",
       "      <td>2,671.05</td>\n",
       "      <td>97,123.95</td>\n",
       "      <td>22,385.80</td>\n",
       "      <td>74,738.15</td>\n",
       "      <td>102.87</td>\n",
       "      <td>65.83</td>\n",
       "      <td>41.40</td>\n",
       "      <td>61.47</td>\n",
       "    </tr>\n",
       "    <tr>\n",
       "      <th>std</th>\n",
       "      <td>15,255.71</td>\n",
       "      <td>18,466.03</td>\n",
       "      <td>21,970.69</td>\n",
       "      <td>9,739.16</td>\n",
       "      <td>5,618,438.91</td>\n",
       "      <td>3,828,138.65</td>\n",
       "      <td>2,463,207.71</td>\n",
       "      <td>5,133.00</td>\n",
       "      <td>302.46</td>\n",
       "      <td>3,218.87</td>\n",
       "      <td>2,223.33</td>\n",
       "    </tr>\n",
       "    <tr>\n",
       "      <th>min</th>\n",
       "      <td>0.00</td>\n",
       "      <td>0.00</td>\n",
       "      <td>0.00</td>\n",
       "      <td>0.00</td>\n",
       "      <td>60.00</td>\n",
       "      <td>60.00</td>\n",
       "      <td>0.00</td>\n",
       "      <td>1.00</td>\n",
       "      <td>0.00</td>\n",
       "      <td>1.00</td>\n",
       "      <td>0.00</td>\n",
       "    </tr>\n",
       "    <tr>\n",
       "      <th>25%</th>\n",
       "      <td>49,183.00</td>\n",
       "      <td>80.00</td>\n",
       "      <td>0.00</td>\n",
       "      <td>0.00</td>\n",
       "      <td>66.00</td>\n",
       "      <td>66.00</td>\n",
       "      <td>0.00</td>\n",
       "      <td>1.00</td>\n",
       "      <td>0.00</td>\n",
       "      <td>1.00</td>\n",
       "      <td>0.00</td>\n",
       "    </tr>\n",
       "    <tr>\n",
       "      <th>50%</th>\n",
       "      <td>53,776.50</td>\n",
       "      <td>445.00</td>\n",
       "      <td>8,820.50</td>\n",
       "      <td>53.00</td>\n",
       "      <td>168.00</td>\n",
       "      <td>90.00</td>\n",
       "      <td>79.00</td>\n",
       "      <td>2.00</td>\n",
       "      <td>15.00</td>\n",
       "      <td>1.00</td>\n",
       "      <td>1.00</td>\n",
       "    </tr>\n",
       "    <tr>\n",
       "      <th>75%</th>\n",
       "      <td>58,638.00</td>\n",
       "      <td>15,000.00</td>\n",
       "      <td>38,366.25</td>\n",
       "      <td>443.00</td>\n",
       "      <td>752.25</td>\n",
       "      <td>210.00</td>\n",
       "      <td>449.00</td>\n",
       "      <td>6.00</td>\n",
       "      <td>30.00</td>\n",
       "      <td>3.00</td>\n",
       "      <td>2.00</td>\n",
       "    </tr>\n",
       "    <tr>\n",
       "      <th>max</th>\n",
       "      <td>65,534.00</td>\n",
       "      <td>65,535.00</td>\n",
       "      <td>65,535.00</td>\n",
       "      <td>65,535.00</td>\n",
       "      <td>1,269,359,015.00</td>\n",
       "      <td>948,477,220.00</td>\n",
       "      <td>320,881,795.00</td>\n",
       "      <td>1,036,116.00</td>\n",
       "      <td>10,824.00</td>\n",
       "      <td>747,520.00</td>\n",
       "      <td>327,208.00</td>\n",
       "    </tr>\n",
       "  </tbody>\n",
       "</table>\n",
       "</div>"
      ],
      "text/plain": [
       "       Source Port  Destination Port  NAT Source Port  NAT Destination Port  \\\n",
       "count    65,532.00         65,532.00        65,532.00             65,532.00   \n",
       "mean     49,391.97         10,577.39        19,282.97              2,671.05   \n",
       "std      15,255.71         18,466.03        21,970.69              9,739.16   \n",
       "min           0.00              0.00             0.00                  0.00   \n",
       "25%      49,183.00             80.00             0.00                  0.00   \n",
       "50%      53,776.50            445.00         8,820.50                 53.00   \n",
       "75%      58,638.00         15,000.00        38,366.25                443.00   \n",
       "max      65,534.00         65,535.00        65,535.00             65,535.00   \n",
       "\n",
       "                 Bytes     Bytes Sent  Bytes Received      Packets  \\\n",
       "count        65,532.00      65,532.00       65,532.00    65,532.00   \n",
       "mean         97,123.95      22,385.80       74,738.15       102.87   \n",
       "std       5,618,438.91   3,828,138.65    2,463,207.71     5,133.00   \n",
       "min              60.00          60.00            0.00         1.00   \n",
       "25%              66.00          66.00            0.00         1.00   \n",
       "50%             168.00          90.00           79.00         2.00   \n",
       "75%             752.25         210.00          449.00         6.00   \n",
       "max   1,269,359,015.00 948,477,220.00  320,881,795.00 1,036,116.00   \n",
       "\n",
       "       Elapsed Time (sec)  pkts_sent  pkts_received  \n",
       "count           65,532.00  65,532.00      65,532.00  \n",
       "mean                65.83      41.40          61.47  \n",
       "std                302.46   3,218.87       2,223.33  \n",
       "min                  0.00       1.00           0.00  \n",
       "25%                  0.00       1.00           0.00  \n",
       "50%                 15.00       1.00           1.00  \n",
       "75%                 30.00       3.00           2.00  \n",
       "max             10,824.00 747,520.00     327,208.00  "
      ]
     },
     "execution_count": 45,
     "metadata": {},
     "output_type": "execute_result"
    }
   ],
   "source": [
    "df.describe()"
   ]
  },
  {
   "cell_type": "code",
   "execution_count": 46,
   "id": "f37686fd",
   "metadata": {},
   "outputs": [
    {
     "data": {
      "text/plain": [
       "(65532, 12)"
      ]
     },
     "execution_count": 46,
     "metadata": {},
     "output_type": "execute_result"
    }
   ],
   "source": [
    "df.shape"
   ]
  },
  {
   "cell_type": "code",
   "execution_count": 47,
   "id": "ab2b372b",
   "metadata": {},
   "outputs": [
    {
     "data": {
      "text/plain": [
       "Source Port             22724\n",
       "Destination Port         3273\n",
       "NAT Source Port         29152\n",
       "NAT Destination Port     2533\n",
       "Bytes                   10724\n",
       "Bytes Sent               6683\n",
       "Bytes Received           8814\n",
       "Packets                  1116\n",
       "Elapsed Time (sec)        915\n",
       "pkts_sent                 749\n",
       "pkts_received             922\n",
       "Action                      4\n",
       "dtype: int64"
      ]
     },
     "execution_count": 47,
     "metadata": {},
     "output_type": "execute_result"
    }
   ],
   "source": [
    "df.nunique()"
   ]
  },
  {
   "cell_type": "code",
   "execution_count": 48,
   "id": "1ecce8a8",
   "metadata": {},
   "outputs": [
    {
     "name": "stdout",
     "output_type": "stream",
     "text": [
      "Distribution of labels allow         37640\n",
      "deny          14987\n",
      "drop          12851\n",
      "reset-both       54\n",
      "Name: Action, dtype: int64\n"
     ]
    }
   ],
   "source": [
    "print(\"Distribution of labels\", df[\"Action\"].value_counts()) "
   ]
  },
  {
   "cell_type": "markdown",
   "id": "b641107f",
   "metadata": {},
   "source": [
    "Prints the distribution of unique values in the \"Action\" column, \n",
    "counting how many times each label appears in the DataFrame."
   ]
  },
  {
   "cell_type": "code",
   "execution_count": 57,
   "id": "f8940cc0",
   "metadata": {},
   "outputs": [
    {
     "data": {
      "image/png": "[encoded data removed]",
      "text/plain": [
       "<Figure size 432x432 with 1 Axes>"
      ]
     },
     "metadata": {},
     "output_type": "display_data"
    }
   ],
   "source": [
    "action_counts = df['Action'].value_counts()\n",
    "\n",
    "\n",
    "plt.figure(figsize=(6, 6))  \n",
    "plt.pie(action_counts, labels=action_counts.index, autopct='%1.1f%%', startangle=90)\n",
    "plt.title('Distrubtion on collunm \"Action\"')\n",
    "plt.show()"
   ]
  },
  {
   "cell_type": "markdown",
   "id": "effe3892",
   "metadata": {},
   "source": [
    "The pie show the database is unbalance only 0,1 of reset-both."
   ]
  },
  {
   "cell_type": "markdown",
   "id": "43799967",
   "metadata": {},
   "source": [
    "Get the count of unique values in the \"Action\" column.\n",
    "action_counts = df['Action'].value_counts()\n",
    "\n",
    "Create a new figure for plotting with specified size (6x6 inches).\n",
    "plt.figure(figsize=(6, 6))  \n",
    "\n",
    "Create a pie chart showing the distribution of labels in the \"Action\" column.\n",
    "- 'labels' specifies the labels for the pie slices.\n",
    "- 'autopct' shows the percentage to one decimal place on each pie slice.\n",
    "- 'startangle=90' starts the pie chart at a 90-degree angle (12 o'clock).\n",
    "plt.pie(action_counts, labels=action_counts.index, autopct='%1.1f%%', startangle=90)\n",
    "\n"
   ]
  },
  {
   "cell_type": "code",
   "execution_count": 54,
   "id": "7c8ae1b8",
   "metadata": {},
   "outputs": [
    {
     "name": "stdout",
     "output_type": "stream",
     "text": [
      "Distribuição após o oversampling: Counter({'allow': 37640, 'drop': 37640, 'deny': 37640, 'reset-both': 37640})\n"
     ]
    }
   ],
   "source": [
    "X = df.drop(columns=['Action']) \n",
    "y = df['Action'] \n",
    "\n",
    "\n",
    "ros = RandomOverSampler(random_state=42)\n",
    "\n",
    "X_resampled, y_resampled = ros.fit_resample(X, y)\n",
    "df_resampled = pd.concat([X_resampled, y_resampled], axis=1)\n",
    "print(\"Distribuição após o oversampling:\", Counter(y_resampled))"
   ]
  },
  {
   "cell_type": "code",
   "execution_count": 55,
   "id": "b5aaaaf6",
   "metadata": {},
   "outputs": [
    {
     "name": "stdout",
     "output_type": "stream",
     "text": [
      "Distribution of labels allow         37640\n",
      "drop          37640\n",
      "deny          37640\n",
      "reset-both    37640\n",
      "Name: Action, dtype: int64\n"
     ]
    }
   ],
   "source": [
    "print(\"Distribution of labels\", df_resampled[\"Action\"].value_counts()) \n"
   ]
  },
  {
   "cell_type": "code",
   "execution_count": 56,
   "id": "2096e399",
   "metadata": {},
   "outputs": [
    {
     "data": {
      "image/png": "[encoded data removed]",
      "text/plain": [
       "<Figure size 432x432 with 1 Axes>"
      ]
     },
     "metadata": {},
     "output_type": "display_data"
    }
   ],
   "source": [
    "action_counts = df_resampled['Action'].value_counts()\n",
    "\n",
    "plt.figure(figsize=(6, 6))  \n",
    "plt.pie(action_counts, labels=action_counts.index, autopct='%1.1f%%', startangle=90)\n",
    "plt.title('Distrubtion on collunm \"Action\"')\n",
    "plt.show()"
   ]
  },
  {
   "cell_type": "markdown",
   "id": "63d7a184",
   "metadata": {},
   "source": [
    "i use the Random Oversampling to duplicate samples from the minority class, the idea is balance the data in order to get better accurance."
   ]
  },
  {
   "cell_type": "markdown",
   "id": "f5483b6c",
   "metadata": {},
   "source": [
    "After completing the data analysis, I believe the data is now ready to initiate the machine learning modeling process, \n",
    "as I did not identify any missing values or gaps."
   ]
  },
  {
   "cell_type": "markdown",
   "id": "d7edda88",
   "metadata": {},
   "source": [
    "In the book Thoughtful MachineLearning with Python,they use a Decision Trees to Classifying Mushrooms \n",
    "and that is what i will do here in order to classifying the 4 categories – “allow, deny, drop, reset-both” \n",
    "in the incoming traffic to the firewall.\n",
    "Decision tree classification is a supervised learning algorithm mostly used in\n",
    "classification problems. Unlike the other model, decision trees can easily handle a mix\n",
    "of numeric and categorical attributes and can even classify data for which attributes are\n",
    "missing"
   ]
  },
  {
   "cell_type": "code",
   "execution_count": 14,
   "id": "9890e885",
   "metadata": {},
   "outputs": [],
   "source": [
    "from sklearn import tree\n",
    "from sklearn.tree import DecisionTreeClassifier\n",
    "from sklearn.model_selection import train_test_split\n",
    "from sklearn.metrics import accuracy_score, classification_report\n"
   ]
  },
  {
   "cell_type": "markdown",
   "id": "9fc27dcf",
   "metadata": {},
   "source": [
    "The sklearn import tree has many commnad in order to make a Decision Trees.\n",
    "in order to use a decision tree, all the data must be numerical and our \"Action\" column contains string values,\n",
    "so we need to address this by converting it to numerical data."
   ]
  },
  {
   "cell_type": "code",
   "execution_count": 15,
   "id": "a2398f89",
   "metadata": {},
   "outputs": [],
   "source": [
    "d = {'allow': 0, 'deny': 1, 'drop': 2, 'reset-both': 3}\n",
    "df_resampled['Action'] = df_resampled['Action'].map(d)"
   ]
  },
  {
   "cell_type": "markdown",
   "id": "a96ad0d3",
   "metadata": {},
   "source": [
    "Create a dictionary that maps specific string values to corresponding numeric codes.\n",
    "d = {'allow': 0, 'deny': 1, 'drop': 2, 'reset-both': 3}\n",
    "\n",
    "Use the dictionary to map values in the 'Action' column to their numeric codes.\n",
    "This is useful when converting categorical data to numeric data for machine learning or analysis.\n",
    "df_resampled['Action'] = df_resampled['Action'].map(d)"
   ]
  },
  {
   "cell_type": "code",
   "execution_count": 58,
   "id": "80668878",
   "metadata": {},
   "outputs": [
    {
     "data": {
      "text/html": [
       "<div>\n",
       "<style scoped>\n",
       "    .dataframe tbody tr th:only-of-type {\n",
       "        vertical-align: middle;\n",
       "    }\n",
       "\n",
       "    .dataframe tbody tr th {\n",
       "        vertical-align: top;\n",
       "    }\n",
       "\n",
       "    .dataframe thead th {\n",
       "        text-align: right;\n",
       "    }\n",
       "</style>\n",
       "<table border=\"1\" class=\"dataframe\">\n",
       "  <thead>\n",
       "    <tr style=\"text-align: right;\">\n",
       "      <th></th>\n",
       "      <th>Source Port</th>\n",
       "      <th>Destination Port</th>\n",
       "      <th>NAT Source Port</th>\n",
       "      <th>NAT Destination Port</th>\n",
       "      <th>Bytes</th>\n",
       "      <th>Bytes Sent</th>\n",
       "      <th>Bytes Received</th>\n",
       "      <th>Packets</th>\n",
       "      <th>Elapsed Time (sec)</th>\n",
       "      <th>pkts_sent</th>\n",
       "      <th>pkts_received</th>\n",
       "    </tr>\n",
       "  </thead>\n",
       "  <tbody>\n",
       "    <tr>\n",
       "      <th>count</th>\n",
       "      <td>150,560.00</td>\n",
       "      <td>150,560.00</td>\n",
       "      <td>150,560.00</td>\n",
       "      <td>150,560.00</td>\n",
       "      <td>150,560.00</td>\n",
       "      <td>150,560.00</td>\n",
       "      <td>150,560.00</td>\n",
       "      <td>150,560.00</td>\n",
       "      <td>150,560.00</td>\n",
       "      <td>150,560.00</td>\n",
       "      <td>150,560.00</td>\n",
       "    </tr>\n",
       "    <tr>\n",
       "      <th>mean</th>\n",
       "      <td>43,360.44</td>\n",
       "      <td>15,990.59</td>\n",
       "      <td>10,039.71</td>\n",
       "      <td>1,348.82</td>\n",
       "      <td>42,336.66</td>\n",
       "      <td>9,802.65</td>\n",
       "      <td>32,534.01</td>\n",
       "      <td>45.50</td>\n",
       "      <td>28.69</td>\n",
       "      <td>18.69</td>\n",
       "      <td>26.81</td>\n",
       "    </tr>\n",
       "    <tr>\n",
       "      <th>std</th>\n",
       "      <td>19,340.48</td>\n",
       "      <td>20,226.13</td>\n",
       "      <td>18,394.68</td>\n",
       "      <td>6,572.92</td>\n",
       "      <td>3,706,997.21</td>\n",
       "      <td>2,525,584.19</td>\n",
       "      <td>1,625,488.58</td>\n",
       "      <td>3,386.80</td>\n",
       "      <td>202.19</td>\n",
       "      <td>2,123.70</td>\n",
       "      <td>1,467.13</td>\n",
       "    </tr>\n",
       "    <tr>\n",
       "      <th>min</th>\n",
       "      <td>0.00</td>\n",
       "      <td>0.00</td>\n",
       "      <td>0.00</td>\n",
       "      <td>0.00</td>\n",
       "      <td>60.00</td>\n",
       "      <td>60.00</td>\n",
       "      <td>0.00</td>\n",
       "      <td>1.00</td>\n",
       "      <td>0.00</td>\n",
       "      <td>1.00</td>\n",
       "      <td>0.00</td>\n",
       "    </tr>\n",
       "    <tr>\n",
       "      <th>25%</th>\n",
       "      <td>28,135.00</td>\n",
       "      <td>445.00</td>\n",
       "      <td>0.00</td>\n",
       "      <td>0.00</td>\n",
       "      <td>66.00</td>\n",
       "      <td>66.00</td>\n",
       "      <td>0.00</td>\n",
       "      <td>1.00</td>\n",
       "      <td>0.00</td>\n",
       "      <td>1.00</td>\n",
       "      <td>0.00</td>\n",
       "    </tr>\n",
       "    <tr>\n",
       "      <th>50%</th>\n",
       "      <td>51,265.00</td>\n",
       "      <td>3,389.00</td>\n",
       "      <td>0.00</td>\n",
       "      <td>0.00</td>\n",
       "      <td>70.00</td>\n",
       "      <td>70.00</td>\n",
       "      <td>0.00</td>\n",
       "      <td>1.00</td>\n",
       "      <td>0.00</td>\n",
       "      <td>1.00</td>\n",
       "      <td>0.00</td>\n",
       "    </tr>\n",
       "    <tr>\n",
       "      <th>75%</th>\n",
       "      <td>57,639.25</td>\n",
       "      <td>30,317.00</td>\n",
       "      <td>12,369.75</td>\n",
       "      <td>53.00</td>\n",
       "      <td>190.00</td>\n",
       "      <td>146.00</td>\n",
       "      <td>70.00</td>\n",
       "      <td>2.00</td>\n",
       "      <td>1.00</td>\n",
       "      <td>1.00</td>\n",
       "      <td>1.00</td>\n",
       "    </tr>\n",
       "    <tr>\n",
       "      <th>max</th>\n",
       "      <td>65,534.00</td>\n",
       "      <td>65,535.00</td>\n",
       "      <td>65,535.00</td>\n",
       "      <td>65,535.00</td>\n",
       "      <td>1,269,359,015.00</td>\n",
       "      <td>948,477,220.00</td>\n",
       "      <td>320,881,795.00</td>\n",
       "      <td>1,036,116.00</td>\n",
       "      <td>10,824.00</td>\n",
       "      <td>747,520.00</td>\n",
       "      <td>327,208.00</td>\n",
       "    </tr>\n",
       "  </tbody>\n",
       "</table>\n",
       "</div>"
      ],
      "text/plain": [
       "       Source Port  Destination Port  NAT Source Port  NAT Destination Port  \\\n",
       "count   150,560.00        150,560.00       150,560.00            150,560.00   \n",
       "mean     43,360.44         15,990.59        10,039.71              1,348.82   \n",
       "std      19,340.48         20,226.13        18,394.68              6,572.92   \n",
       "min           0.00              0.00             0.00                  0.00   \n",
       "25%      28,135.00            445.00             0.00                  0.00   \n",
       "50%      51,265.00          3,389.00             0.00                  0.00   \n",
       "75%      57,639.25         30,317.00        12,369.75                 53.00   \n",
       "max      65,534.00         65,535.00        65,535.00             65,535.00   \n",
       "\n",
       "                 Bytes     Bytes Sent  Bytes Received      Packets  \\\n",
       "count       150,560.00     150,560.00      150,560.00   150,560.00   \n",
       "mean         42,336.66       9,802.65       32,534.01        45.50   \n",
       "std       3,706,997.21   2,525,584.19    1,625,488.58     3,386.80   \n",
       "min              60.00          60.00            0.00         1.00   \n",
       "25%              66.00          66.00            0.00         1.00   \n",
       "50%              70.00          70.00            0.00         1.00   \n",
       "75%             190.00         146.00           70.00         2.00   \n",
       "max   1,269,359,015.00 948,477,220.00  320,881,795.00 1,036,116.00   \n",
       "\n",
       "       Elapsed Time (sec)  pkts_sent  pkts_received  \n",
       "count          150,560.00 150,560.00     150,560.00  \n",
       "mean                28.69      18.69          26.81  \n",
       "std                202.19   2,123.70       1,467.13  \n",
       "min                  0.00       1.00           0.00  \n",
       "25%                  0.00       1.00           0.00  \n",
       "50%                  0.00       1.00           0.00  \n",
       "75%                  1.00       1.00           1.00  \n",
       "max             10,824.00 747,520.00     327,208.00  "
      ]
     },
     "execution_count": 58,
     "metadata": {},
     "output_type": "execute_result"
    }
   ],
   "source": [
    "df_resampled.describe()"
   ]
  },
  {
   "cell_type": "markdown",
   "id": "9b6539c5",
   "metadata": {},
   "source": [
    "Then we have to separate the feature columns from the Action column.\n",
    "The feature columns are the columns that we try to predict from,\n",
    "and the target column is the column with the values we try to classifer."
   ]
  },
  {
   "cell_type": "code",
   "execution_count": 17,
   "id": "b18199ef",
   "metadata": {},
   "outputs": [],
   "source": [
    "features = ['Source Port', 'Destination Port', 'NAT Source Port', 'NAT Destination Port', 'Bytes', 'Bytes Sent', 'Bytes Received'\n",
    "           , 'Packets', 'Elapsed Time (sec)', 'pkts_sent', 'pkts_received']\n",
    "\n",
    "X = df_resampled[features]\n",
    "y = df_resampled['Action']\n"
   ]
  },
  {
   "cell_type": "markdown",
   "id": "6b505480",
   "metadata": {},
   "source": [
    "where we split the data in two parts, the variebles that will help us to classifier (in case x)\n",
    "and the one we will predicti ( in case Y) "
   ]
  },
  {
   "cell_type": "code",
   "execution_count": 18,
   "id": "05ac2502",
   "metadata": {},
   "outputs": [
    {
     "name": "stdout",
     "output_type": "stream",
     "text": [
      "        Source Port  Destination Port  NAT Source Port  NAT Destination Port  \\\n",
      "0             57222                53            54587                    53   \n",
      "1             56258              3389            56258                  3389   \n",
      "2              6881             50321            43265                 50321   \n",
      "3             50553              3389            50553                  3389   \n",
      "4             50002               443            45848                   443   \n",
      "...             ...               ...              ...                   ...   \n",
      "150555         1024             21854                0                     0   \n",
      "150556        12283             25773                0                     0   \n",
      "150557        12285             61248                0                     0   \n",
      "150558        11337             25773                0                     0   \n",
      "150559         8116             25773                0                     0   \n",
      "\n",
      "        Bytes  Bytes Sent  Bytes Received  Packets  Elapsed Time (sec)  \\\n",
      "0         177          94              83        2                  30   \n",
      "1        4768        1600            3168       19                  17   \n",
      "2         238         118             120        2                1199   \n",
      "3        3327        1438            1889       15                  17   \n",
      "4       25358        6778           18580       31                  16   \n",
      "...       ...         ...             ...      ...                 ...   \n",
      "150555    157         157               0        1                   0   \n",
      "150556    139         139               0        1                   0   \n",
      "150557    139         139               0        1                   0   \n",
      "150558    159         159               0        1                   0   \n",
      "150559    157         157               0        1                   0   \n",
      "\n",
      "        pkts_sent  pkts_received  \n",
      "0               1              1  \n",
      "1              10              9  \n",
      "2               1              1  \n",
      "3               8              7  \n",
      "4              13             18  \n",
      "...           ...            ...  \n",
      "150555          1              0  \n",
      "150556          1              0  \n",
      "150557          1              0  \n",
      "150558          1              0  \n",
      "150559          1              0  \n",
      "\n",
      "[150560 rows x 11 columns]\n"
     ]
    }
   ],
   "source": [
    "print(X)"
   ]
  },
  {
   "cell_type": "code",
   "execution_count": 19,
   "id": "28047ec8",
   "metadata": {},
   "outputs": [
    {
     "name": "stdout",
     "output_type": "stream",
     "text": [
      "0         0\n",
      "1         0\n",
      "2         0\n",
      "3         0\n",
      "4         0\n",
      "         ..\n",
      "150555    3\n",
      "150556    3\n",
      "150557    3\n",
      "150558    3\n",
      "150559    3\n",
      "Name: Action, Length: 150560, dtype: int64\n"
     ]
    }
   ],
   "source": [
    "print(y) "
   ]
  },
  {
   "cell_type": "code",
   "execution_count": 20,
   "id": "8365defd",
   "metadata": {},
   "outputs": [],
   "source": [
    "X_train, X_test, y_train, y_test = train_test_split(X, y, test_size=0.2, random_state=42)"
   ]
  },
  {
   "cell_type": "markdown",
   "id": "0e75fbae",
   "metadata": {},
   "source": [
    "Up we are traning the Decision Tree, \n",
    "test_size=0.2: This parameter determines the size of the test set relative to the entire dataset. \n",
    "In this case, it's set to 0.2, which means the test set will contain 20% of the data,\n",
    "while the training set will contain the remaining 80%.\n",
    "and the random_state=42: the random seed used by the random number generator.\n",
    "It ensures that the data is split in a reproducible manner."
   ]
  },
  {
   "cell_type": "code",
   "execution_count": 21,
   "id": "42d23c5a",
   "metadata": {},
   "outputs": [],
   "source": [
    "dtree = DecisionTreeClassifier()\n",
    "dtree = dtree.fit(X_train, y_train)"
   ]
  },
  {
   "cell_type": "markdown",
   "id": "e3df6966",
   "metadata": {},
   "source": [
    "Here is Where we create a decision tree, important concept from decision tree is known as Gini, also known as information gain.\n",
    "when we take this data and we run a decision tree algorithm on top of this data the very first thing that will happen here is\n",
    "decision tree algorithm has to decide how to create the tree. when creating a tree it needs to decide what should be the root node when\n",
    "I say what should be the root node the candidate for root nodes are all the independent variables in my data base ( this case = \n",
    "X = df[features]).\n",
    "let's say i take Bytes and Packets, now i hava two candidates of my root node for the decision tree that where gini take place,\n",
    "gini will compute the probability using the output of them and wherever it finds the minimum Gini index that particular\n",
    "split the particular column will be selected as the tree splitting criteria.\n"
   ]
  },
  {
   "cell_type": "code",
   "execution_count": 22,
   "id": "c990b593",
   "metadata": {},
   "outputs": [
    {
     "name": "stdout",
     "output_type": "stream",
     "text": [
      "show the total of accuracy 99.97%\n"
     ]
    }
   ],
   "source": [
    "predictions = dtree.predict(X_test)\n",
    "accuracy = accuracy_score(y_test, predictions)\n",
    "print(\"show the total of accuracy {:.2f}%\".format(accuracy * 100))"
   ]
  },
  {
   "cell_type": "markdown",
   "id": "81a4bae7",
   "metadata": {},
   "source": [
    "before balance the data the accuracy was 99.98% now it is 99.97%"
   ]
  },
  {
   "cell_type": "code",
   "execution_count": 23,
   "id": "8a1db6b4",
   "metadata": {},
   "outputs": [],
   "source": [
    "from sklearn.metrics import f1_score\n",
    "\n",
    "f1 = f1_score(y_test, predictions, average='weighted')\n"
   ]
  },
  {
   "cell_type": "code",
   "execution_count": 24,
   "id": "4ca687d1",
   "metadata": {},
   "outputs": [
    {
     "name": "stdout",
     "output_type": "stream",
     "text": [
      "F1-score tree decission:99.97%\n"
     ]
    }
   ],
   "source": [
    "print(\"F1-score tree decission:{:.2f}%\".format(f1 * 100))"
   ]
  },
  {
   "cell_type": "markdown",
   "id": "74a8726c",
   "metadata": {},
   "source": [
    "Achieving 99% accuracy and an F1-score of 99 is quite impressive. \n",
    "It indicates that the model is performing exceptionally well in classification tasks\n",
    "look a good perfor of decission tree."
   ]
  },
  {
   "cell_type": "code",
   "execution_count": 26,
   "id": "6df29157",
   "metadata": {},
   "outputs": [
    {
     "name": "stdout",
     "output_type": "stream",
     "text": [
      "Relatório de classificação:\n",
      "              precision    recall  f1-score   support\n",
      "\n",
      "           0       1.00      1.00      1.00      7526\n",
      "           1       1.00      1.00      1.00      7503\n",
      "           2       1.00      1.00      1.00      7528\n",
      "           3       1.00      1.00      1.00      7555\n",
      "\n",
      "    accuracy                           1.00     30112\n",
      "   macro avg       1.00      1.00      1.00     30112\n",
      "weighted avg       1.00      1.00      1.00     30112\n",
      "\n"
     ]
    }
   ],
   "source": [
    "report_dtree = classification_report(y_test,predictions )\n",
    "print(\"Relatório de classificação:\")\n",
    "print(report_dtree)"
   ]
  },
  {
   "cell_type": "code",
   "execution_count": 27,
   "id": "f08bf1a1",
   "metadata": {},
   "outputs": [
    {
     "name": "stdout",
     "output_type": "stream",
     "text": [
      "Previsões:\n",
      "[0 0 0 0 0 0 0 0 0 0]\n"
     ]
    }
   ],
   "source": [
    "predictions = dtree.predict(X)\n",
    "print(\"Previsões:\")\n",
    "print(predictions [:10] )"
   ]
  },
  {
   "cell_type": "markdown",
   "id": "89482744",
   "metadata": {},
   "source": [
    "Result in  nunbers."
   ]
  },
  {
   "cell_type": "code",
   "execution_count": 28,
   "id": "e8fe7f41",
   "metadata": {},
   "outputs": [],
   "source": [
    "reverse_d = {v: k for k, v in d.items()}\n",
    "predictions_names = [reverse_d[prediction] for prediction in predictions]"
   ]
  },
  {
   "cell_type": "markdown",
   "id": "aafd803d",
   "metadata": {},
   "source": [
    "i am create a new dictionary where the keys are the original values\n",
    "and the values are the original keys of the dictionary \"d\"."
   ]
  },
  {
   "cell_type": "code",
   "execution_count": 29,
   "id": "e8f1a6ea",
   "metadata": {},
   "outputs": [
    {
     "name": "stdout",
     "output_type": "stream",
     "text": [
      "Previsões:\n",
      "['allow', 'allow', 'allow', 'allow', 'allow', 'allow', 'allow', 'allow', 'allow', 'allow']\n"
     ]
    }
   ],
   "source": [
    "print(\"Previsões:\")\n",
    "print(predictions_names [:10])"
   ]
  },
  {
   "cell_type": "code",
   "execution_count": 30,
   "id": "3a45e344",
   "metadata": {},
   "outputs": [
    {
     "name": "stdout",
     "output_type": "stream",
     "text": [
      "[2]\n"
     ]
    }
   ],
   "source": [
    "print(dtree.predict([[4000, 450, 3423, 677,70,71230,2210,2022,0,330,220]])) "
   ]
  },
  {
   "cell_type": "code",
   "execution_count": 31,
   "id": "38c3c65b",
   "metadata": {},
   "outputs": [],
   "source": [
    "new_predict = dtree.predict([[4000, 450, 3423, 677, 70, 71230, 2210, 2022, 0, 330, 220]])\n",
    "name= reverse_d[new_predict[0]]"
   ]
  },
  {
   "cell_type": "code",
   "execution_count": 32,
   "id": "25e5ecc5",
   "metadata": {},
   "outputs": [
    {
     "name": "stdout",
     "output_type": "stream",
     "text": [
      "Label name: drop\n"
     ]
    }
   ],
   "source": [
    "print(\"Label name:\", name)"
   ]
  },
  {
   "cell_type": "markdown",
   "id": "f9f91c57",
   "metadata": {},
   "source": [
    "Up are the values corresponding to those features: \n",
    "Source Port, Destination Port, NAT Source Port, NAT Destination Port, Bytes, Bytes Sent, Bytes Received, Packets,\n",
    "Elapsed Time (sec), pkts_sent, pkts_received.\n",
    "If you want to predict the traffic on a firewall."
   ]
  },
  {
   "cell_type": "markdown",
   "id": "0dc2d56a",
   "metadata": {},
   "source": [
    "As my secund classifier i chosse the support vector machines (SVMs). This algorithm uses\n",
    "decision boundaries to split data into multiple parts and operates well in higher\n",
    "dimensions due to feature transformation and ignoring distances between data\n",
    "points.Its primary objective is to find the optimal hyperplane that best separates data points \n",
    "belonging to different classes.\n",
    "\n",
    "\n"
   ]
  },
  {
   "cell_type": "code",
   "execution_count": 33,
   "id": "8acfd236",
   "metadata": {},
   "outputs": [
    {
     "data": {
      "image/png": "[encoded data removed]",
      "text/plain": [
       "<Figure size 432x288 with 1 Axes>"
      ]
     },
     "metadata": {
      "needs_background": "light"
     },
     "output_type": "display_data"
    }
   ],
   "source": [
    "import matplotlib.pyplot as plt\n",
    "df_subset = df.head(1000)\n",
    "\n",
    "\n",
    "plt.scatter(df_subset['Source Port'], df_subset['Destination Port'], c='k', label='Source Port')  \n",
    "plt.scatter(df_subset['NAT Source Port'], df_subset['Destination Port'], c='b', label='Destination Port') \n",
    "plt.xlabel('Source Port')\n",
    "plt.ylabel('Destination Port')\n",
    "plt.title('Scatter Plot of Source Port and Destination Port')\n",
    "plt.legend()\n",
    "plt.grid(True)\n",
    "plt.show()"
   ]
  },
  {
   "cell_type": "markdown",
   "id": "3a96dafe",
   "metadata": {},
   "source": [
    "I did a plot up in order to us visualize how bad the data is linearly separable, \n",
    "meaning we cant draw a straight line (or plane, or hyperplane in higher dimensions) to separate the classes.\n",
    "Becuse of that now we gonna use The Radial Basis Function (RBF) Kernel is one of the most commonly used kernel functions\n",
    "in Support Vector Machines (SVM).\n",
    "It's particularly effective for handling non-linearly separable data.\n",
    " \n"
   ]
  },
  {
   "cell_type": "code",
   "execution_count": 34,
   "id": "4ec676f2",
   "metadata": {},
   "outputs": [],
   "source": [
    "from sklearn.svm import SVC\n",
    "X_svmtrain, X_svmtest, y_svmtrain, y_svmtest = train_test_split(X, y, test_size=0.2, random_state=42)\n",
    "svm_classifier = SVC(kernel='rbf')\n",
    "svm_classifier.fit(X_svmtrain, y_svmtrain)\n",
    "accuracy = svm_classifier.score(X_svmtest, y_svmtest)"
   ]
  },
  {
   "cell_type": "code",
   "execution_count": 36,
   "id": "aa86a536",
   "metadata": {},
   "outputs": [
    {
     "name": "stdout",
     "output_type": "stream",
     "text": [
      "accuracy of SVM with kernel RBF :73.55%\n"
     ]
    }
   ],
   "source": [
    "print(\"accuracy of SVM with kernel RBF :{:.2f}%\".format(accuracy * 100))\n",
    " "
   ]
  },
  {
   "cell_type": "markdown",
   "id": "e7cb9d9c",
   "metadata": {},
   "source": [
    "before the data balance the accuracy of SVM with kernel RBF was 57.56%, now it is  73.55%."
   ]
  },
  {
   "cell_type": "code",
   "execution_count": 37,
   "id": "f3eb5b14",
   "metadata": {},
   "outputs": [],
   "source": [
    "predictions_svm = svm_classifier.predict(X_test)\n",
    "reverse_d = {v: k for k, v in d.items()}"
   ]
  },
  {
   "cell_type": "code",
   "execution_count": 38,
   "id": "b98dacbd",
   "metadata": {},
   "outputs": [
    {
     "name": "stdout",
     "output_type": "stream",
     "text": [
      "Previsões no conjunto de teste:\n",
      "['allow', 'allow', 'allow', 'allow', 'allow', 'allow', 'allow', 'allow', 'allow', 'allow']\n"
     ]
    }
   ],
   "source": [
    "predictions_names = [reverse_d[prediction] for prediction in predictions]\n",
    "print(\"Previsões no conjunto de teste:\")\n",
    "print(predictions_names[:10])"
   ]
  },
  {
   "cell_type": "code",
   "execution_count": 34,
   "id": "05497a83",
   "metadata": {},
   "outputs": [
    {
     "name": "stdout",
     "output_type": "stream",
     "text": [
      "Previsões:\n",
      "[0 0 0 0 0 0 0 0 0 0]\n"
     ]
    }
   ],
   "source": [
    "print(\"Previsões:\")\n",
    "print(predictions_svm [:10] )"
   ]
  }
 ],
 "metadata": {
  "kernelspec": {
   "display_name": "Python 3 (ipykernel)",
   "language": "python",
   "name": "python3"
  },
  "language_info": {
   "codemirror_mode": {
    "name": "ipython",
    "version": 3
   },
   "file_extension": ".py",
   "mimetype": "text/x-python",
   "name": "python",
   "nbconvert_exporter": "python",
   "pygments_lexer": "ipython3",
   "version": "3.9.7"
  }
 },
 "nbformat": 4,
 "nbformat_minor": 5
}
