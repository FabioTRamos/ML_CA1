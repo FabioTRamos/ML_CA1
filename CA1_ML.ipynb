{
 "cells": [
  {
   "cell_type": "markdown",
   "id": "39c2ba05",
   "metadata": {},
   "source": [
    "                                        Fabio Teixeira Ramos\n",
    "                                            2020367\n",
    "\n",
    "                            A Report Submitted in Partial Fulfilment \n",
    "                                    of the requirements for the \n",
    "                                            Degree of \n",
    "                                BSc in Computing in IT (4th year)\n",
    "\n",
    "\n",
    "\n",
    " \n",
    "\n",
    "                                             May 2024\n",
    "\n",
    "\n",
    "\n",
    "                                      Supervisor: David McQuaid\n",
    "\n"
   ]
  },
  {
   "cell_type": "code",
   "execution_count": 125,
   "id": "84cfe15c",
   "metadata": {},
   "outputs": [],
   "source": [
    "import pandas as pd\n",
    "import warnings\n",
    "warnings.filterwarnings(\"ignore\")"
   ]
  },
  {
   "cell_type": "code",
   "execution_count": 126,
   "id": "9392a163",
   "metadata": {},
   "outputs": [],
   "source": [
    "df = pd.read_csv(\"FireWall\\log2 (1).csv\")"
   ]
  },
  {
   "cell_type": "markdown",
   "id": "2091a3a6",
   "metadata": {},
   "source": [
    "i stated the data Analyze using .info  check the number of entries, data types, and for missing values"
   ]
  },
  {
   "cell_type": "code",
   "execution_count": 127,
   "id": "5ba5d972",
   "metadata": {},
   "outputs": [
    {
     "name": "stdout",
     "output_type": "stream",
     "text": [
      "<class 'pandas.core.frame.DataFrame'>\n",
      "RangeIndex: 65532 entries, 0 to 65531\n",
      "Data columns (total 12 columns):\n",
      " #   Column                Non-Null Count  Dtype \n",
      "---  ------                --------------  ----- \n",
      " 0   Source Port           65532 non-null  int64 \n",
      " 1   Destination Port      65532 non-null  int64 \n",
      " 2   NAT Source Port       65532 non-null  int64 \n",
      " 3   NAT Destination Port  65532 non-null  int64 \n",
      " 4   Bytes                 65532 non-null  int64 \n",
      " 5   Bytes Sent            65532 non-null  int64 \n",
      " 6   Bytes Received        65532 non-null  int64 \n",
      " 7   Packets               65532 non-null  int64 \n",
      " 8   Elapsed Time (sec)    65532 non-null  int64 \n",
      " 9   pkts_sent             65532 non-null  int64 \n",
      " 10  pkts_received         65532 non-null  int64 \n",
      " 11  Action                65532 non-null  object\n",
      "dtypes: int64(11), object(1)\n",
      "memory usage: 6.0+ MB\n"
     ]
    }
   ],
   "source": [
    "df.info()"
   ]
  },
  {
   "cell_type": "code",
   "execution_count": null,
   "id": "801ce1c5",
   "metadata": {},
   "outputs": [],
   "source": []
  },
  {
   "cell_type": "markdown",
   "id": "10b423ed",
   "metadata": {},
   "source": [
    "df.head() to see an overview of the structure."
   ]
  },
  {
   "cell_type": "code",
   "execution_count": 128,
   "id": "41db8896",
   "metadata": {},
   "outputs": [
    {
     "data": {
      "text/html": [
       "<div>\n",
       "<style scoped>\n",
       "    .dataframe tbody tr th:only-of-type {\n",
       "        vertical-align: middle;\n",
       "    }\n",
       "\n",
       "    .dataframe tbody tr th {\n",
       "        vertical-align: top;\n",
       "    }\n",
       "\n",
       "    .dataframe thead th {\n",
       "        text-align: right;\n",
       "    }\n",
       "</style>\n",
       "<table border=\"1\" class=\"dataframe\">\n",
       "  <thead>\n",
       "    <tr style=\"text-align: right;\">\n",
       "      <th></th>\n",
       "      <th>Source Port</th>\n",
       "      <th>Destination Port</th>\n",
       "      <th>NAT Source Port</th>\n",
       "      <th>NAT Destination Port</th>\n",
       "      <th>Bytes</th>\n",
       "      <th>Bytes Sent</th>\n",
       "      <th>Bytes Received</th>\n",
       "      <th>Packets</th>\n",
       "      <th>Elapsed Time (sec)</th>\n",
       "      <th>pkts_sent</th>\n",
       "      <th>pkts_received</th>\n",
       "      <th>Action</th>\n",
       "    </tr>\n",
       "  </thead>\n",
       "  <tbody>\n",
       "    <tr>\n",
       "      <th>0</th>\n",
       "      <td>57222</td>\n",
       "      <td>53</td>\n",
       "      <td>54587</td>\n",
       "      <td>53</td>\n",
       "      <td>177</td>\n",
       "      <td>94</td>\n",
       "      <td>83</td>\n",
       "      <td>2</td>\n",
       "      <td>30</td>\n",
       "      <td>1</td>\n",
       "      <td>1</td>\n",
       "      <td>allow</td>\n",
       "    </tr>\n",
       "    <tr>\n",
       "      <th>1</th>\n",
       "      <td>56258</td>\n",
       "      <td>3389</td>\n",
       "      <td>56258</td>\n",
       "      <td>3389</td>\n",
       "      <td>4768</td>\n",
       "      <td>1600</td>\n",
       "      <td>3168</td>\n",
       "      <td>19</td>\n",
       "      <td>17</td>\n",
       "      <td>10</td>\n",
       "      <td>9</td>\n",
       "      <td>allow</td>\n",
       "    </tr>\n",
       "    <tr>\n",
       "      <th>2</th>\n",
       "      <td>6881</td>\n",
       "      <td>50321</td>\n",
       "      <td>43265</td>\n",
       "      <td>50321</td>\n",
       "      <td>238</td>\n",
       "      <td>118</td>\n",
       "      <td>120</td>\n",
       "      <td>2</td>\n",
       "      <td>1199</td>\n",
       "      <td>1</td>\n",
       "      <td>1</td>\n",
       "      <td>allow</td>\n",
       "    </tr>\n",
       "    <tr>\n",
       "      <th>3</th>\n",
       "      <td>50553</td>\n",
       "      <td>3389</td>\n",
       "      <td>50553</td>\n",
       "      <td>3389</td>\n",
       "      <td>3327</td>\n",
       "      <td>1438</td>\n",
       "      <td>1889</td>\n",
       "      <td>15</td>\n",
       "      <td>17</td>\n",
       "      <td>8</td>\n",
       "      <td>7</td>\n",
       "      <td>allow</td>\n",
       "    </tr>\n",
       "    <tr>\n",
       "      <th>4</th>\n",
       "      <td>50002</td>\n",
       "      <td>443</td>\n",
       "      <td>45848</td>\n",
       "      <td>443</td>\n",
       "      <td>25358</td>\n",
       "      <td>6778</td>\n",
       "      <td>18580</td>\n",
       "      <td>31</td>\n",
       "      <td>16</td>\n",
       "      <td>13</td>\n",
       "      <td>18</td>\n",
       "      <td>allow</td>\n",
       "    </tr>\n",
       "  </tbody>\n",
       "</table>\n",
       "</div>"
      ],
      "text/plain": [
       "   Source Port  Destination Port  NAT Source Port  NAT Destination Port  \\\n",
       "0        57222                53            54587                    53   \n",
       "1        56258              3389            56258                  3389   \n",
       "2         6881             50321            43265                 50321   \n",
       "3        50553              3389            50553                  3389   \n",
       "4        50002               443            45848                   443   \n",
       "\n",
       "   Bytes  Bytes Sent  Bytes Received  Packets  Elapsed Time (sec)  pkts_sent  \\\n",
       "0    177          94              83        2                  30          1   \n",
       "1   4768        1600            3168       19                  17         10   \n",
       "2    238         118             120        2                1199          1   \n",
       "3   3327        1438            1889       15                  17          8   \n",
       "4  25358        6778           18580       31                  16         13   \n",
       "\n",
       "   pkts_received Action  \n",
       "0              1  allow  \n",
       "1              9  allow  \n",
       "2              1  allow  \n",
       "3              7  allow  \n",
       "4             18  allow  "
      ]
     },
     "execution_count": 128,
     "metadata": {},
     "output_type": "execute_result"
    }
   ],
   "source": [
    "df.head()"
   ]
  },
  {
   "cell_type": "code",
   "execution_count": 130,
   "id": "222d56c4",
   "metadata": {},
   "outputs": [
    {
     "data": {
      "text/plain": [
       "Source Port             0\n",
       "Destination Port        0\n",
       "NAT Source Port         0\n",
       "NAT Destination Port    0\n",
       "Bytes                   0\n",
       "Bytes Sent              0\n",
       "Bytes Received          0\n",
       "Packets                 0\n",
       "Elapsed Time (sec)      0\n",
       "pkts_sent               0\n",
       "pkts_received           0\n",
       "Action                  0\n",
       "dtype: int64"
      ]
     },
     "execution_count": 130,
     "metadata": {},
     "output_type": "execute_result"
    }
   ],
   "source": [
    "df.isnull().sum()"
   ]
  },
  {
   "cell_type": "markdown",
   "id": "0f6e22e5",
   "metadata": {},
   "source": [
    "because the .isnull show all outcome zero that means the data has no miss valus. what is good for us."
   ]
  },
  {
   "cell_type": "code",
   "execution_count": 131,
   "id": "dd0a5b19",
   "metadata": {},
   "outputs": [],
   "source": [
    "pd.options.display.float_format = \"{:,.2f}\".format"
   ]
  },
  {
   "cell_type": "markdown",
   "id": "6cbfd28e",
   "metadata": {},
   "source": [
    "i did the options.display in order to have 2 decmal format "
   ]
  },
  {
   "cell_type": "code",
   "execution_count": 132,
   "id": "dbca25e9",
   "metadata": {},
   "outputs": [
    {
     "data": {
      "text/html": [
       "<div>\n",
       "<style scoped>\n",
       "    .dataframe tbody tr th:only-of-type {\n",
       "        vertical-align: middle;\n",
       "    }\n",
       "\n",
       "    .dataframe tbody tr th {\n",
       "        vertical-align: top;\n",
       "    }\n",
       "\n",
       "    .dataframe thead th {\n",
       "        text-align: right;\n",
       "    }\n",
       "</style>\n",
       "<table border=\"1\" class=\"dataframe\">\n",
       "  <thead>\n",
       "    <tr style=\"text-align: right;\">\n",
       "      <th></th>\n",
       "      <th>Source Port</th>\n",
       "      <th>Destination Port</th>\n",
       "      <th>NAT Source Port</th>\n",
       "      <th>NAT Destination Port</th>\n",
       "      <th>Bytes</th>\n",
       "      <th>Bytes Sent</th>\n",
       "      <th>Bytes Received</th>\n",
       "      <th>Packets</th>\n",
       "      <th>Elapsed Time (sec)</th>\n",
       "      <th>pkts_sent</th>\n",
       "      <th>pkts_received</th>\n",
       "    </tr>\n",
       "  </thead>\n",
       "  <tbody>\n",
       "    <tr>\n",
       "      <th>count</th>\n",
       "      <td>65,532.00</td>\n",
       "      <td>65,532.00</td>\n",
       "      <td>65,532.00</td>\n",
       "      <td>65,532.00</td>\n",
       "      <td>65,532.00</td>\n",
       "      <td>65,532.00</td>\n",
       "      <td>65,532.00</td>\n",
       "      <td>65,532.00</td>\n",
       "      <td>65,532.00</td>\n",
       "      <td>65,532.00</td>\n",
       "      <td>65,532.00</td>\n",
       "    </tr>\n",
       "    <tr>\n",
       "      <th>mean</th>\n",
       "      <td>49,391.97</td>\n",
       "      <td>10,577.39</td>\n",
       "      <td>19,282.97</td>\n",
       "      <td>2,671.05</td>\n",
       "      <td>97,123.95</td>\n",
       "      <td>22,385.80</td>\n",
       "      <td>74,738.15</td>\n",
       "      <td>102.87</td>\n",
       "      <td>65.83</td>\n",
       "      <td>41.40</td>\n",
       "      <td>61.47</td>\n",
       "    </tr>\n",
       "    <tr>\n",
       "      <th>std</th>\n",
       "      <td>15,255.71</td>\n",
       "      <td>18,466.03</td>\n",
       "      <td>21,970.69</td>\n",
       "      <td>9,739.16</td>\n",
       "      <td>5,618,438.91</td>\n",
       "      <td>3,828,138.65</td>\n",
       "      <td>2,463,207.71</td>\n",
       "      <td>5,133.00</td>\n",
       "      <td>302.46</td>\n",
       "      <td>3,218.87</td>\n",
       "      <td>2,223.33</td>\n",
       "    </tr>\n",
       "    <tr>\n",
       "      <th>min</th>\n",
       "      <td>0.00</td>\n",
       "      <td>0.00</td>\n",
       "      <td>0.00</td>\n",
       "      <td>0.00</td>\n",
       "      <td>60.00</td>\n",
       "      <td>60.00</td>\n",
       "      <td>0.00</td>\n",
       "      <td>1.00</td>\n",
       "      <td>0.00</td>\n",
       "      <td>1.00</td>\n",
       "      <td>0.00</td>\n",
       "    </tr>\n",
       "    <tr>\n",
       "      <th>25%</th>\n",
       "      <td>49,183.00</td>\n",
       "      <td>80.00</td>\n",
       "      <td>0.00</td>\n",
       "      <td>0.00</td>\n",
       "      <td>66.00</td>\n",
       "      <td>66.00</td>\n",
       "      <td>0.00</td>\n",
       "      <td>1.00</td>\n",
       "      <td>0.00</td>\n",
       "      <td>1.00</td>\n",
       "      <td>0.00</td>\n",
       "    </tr>\n",
       "    <tr>\n",
       "      <th>50%</th>\n",
       "      <td>53,776.50</td>\n",
       "      <td>445.00</td>\n",
       "      <td>8,820.50</td>\n",
       "      <td>53.00</td>\n",
       "      <td>168.00</td>\n",
       "      <td>90.00</td>\n",
       "      <td>79.00</td>\n",
       "      <td>2.00</td>\n",
       "      <td>15.00</td>\n",
       "      <td>1.00</td>\n",
       "      <td>1.00</td>\n",
       "    </tr>\n",
       "    <tr>\n",
       "      <th>75%</th>\n",
       "      <td>58,638.00</td>\n",
       "      <td>15,000.00</td>\n",
       "      <td>38,366.25</td>\n",
       "      <td>443.00</td>\n",
       "      <td>752.25</td>\n",
       "      <td>210.00</td>\n",
       "      <td>449.00</td>\n",
       "      <td>6.00</td>\n",
       "      <td>30.00</td>\n",
       "      <td>3.00</td>\n",
       "      <td>2.00</td>\n",
       "    </tr>\n",
       "    <tr>\n",
       "      <th>max</th>\n",
       "      <td>65,534.00</td>\n",
       "      <td>65,535.00</td>\n",
       "      <td>65,535.00</td>\n",
       "      <td>65,535.00</td>\n",
       "      <td>1,269,359,015.00</td>\n",
       "      <td>948,477,220.00</td>\n",
       "      <td>320,881,795.00</td>\n",
       "      <td>1,036,116.00</td>\n",
       "      <td>10,824.00</td>\n",
       "      <td>747,520.00</td>\n",
       "      <td>327,208.00</td>\n",
       "    </tr>\n",
       "  </tbody>\n",
       "</table>\n",
       "</div>"
      ],
      "text/plain": [
       "       Source Port  Destination Port  NAT Source Port  NAT Destination Port  \\\n",
       "count    65,532.00         65,532.00        65,532.00             65,532.00   \n",
       "mean     49,391.97         10,577.39        19,282.97              2,671.05   \n",
       "std      15,255.71         18,466.03        21,970.69              9,739.16   \n",
       "min           0.00              0.00             0.00                  0.00   \n",
       "25%      49,183.00             80.00             0.00                  0.00   \n",
       "50%      53,776.50            445.00         8,820.50                 53.00   \n",
       "75%      58,638.00         15,000.00        38,366.25                443.00   \n",
       "max      65,534.00         65,535.00        65,535.00             65,535.00   \n",
       "\n",
       "                 Bytes     Bytes Sent  Bytes Received      Packets  \\\n",
       "count        65,532.00      65,532.00       65,532.00    65,532.00   \n",
       "mean         97,123.95      22,385.80       74,738.15       102.87   \n",
       "std       5,618,438.91   3,828,138.65    2,463,207.71     5,133.00   \n",
       "min              60.00          60.00            0.00         1.00   \n",
       "25%              66.00          66.00            0.00         1.00   \n",
       "50%             168.00          90.00           79.00         2.00   \n",
       "75%             752.25         210.00          449.00         6.00   \n",
       "max   1,269,359,015.00 948,477,220.00  320,881,795.00 1,036,116.00   \n",
       "\n",
       "       Elapsed Time (sec)  pkts_sent  pkts_received  \n",
       "count           65,532.00  65,532.00      65,532.00  \n",
       "mean                65.83      41.40          61.47  \n",
       "std                302.46   3,218.87       2,223.33  \n",
       "min                  0.00       1.00           0.00  \n",
       "25%                  0.00       1.00           0.00  \n",
       "50%                 15.00       1.00           1.00  \n",
       "75%                 30.00       3.00           2.00  \n",
       "max             10,824.00 747,520.00     327,208.00  "
      ]
     },
     "execution_count": 132,
     "metadata": {},
     "output_type": "execute_result"
    }
   ],
   "source": [
    "df.describe()"
   ]
  },
  {
   "cell_type": "code",
   "execution_count": 133,
   "id": "f37686fd",
   "metadata": {},
   "outputs": [
    {
     "data": {
      "text/plain": [
       "(65532, 12)"
      ]
     },
     "execution_count": 133,
     "metadata": {},
     "output_type": "execute_result"
    }
   ],
   "source": [
    "df.shape"
   ]
  },
  {
   "cell_type": "code",
   "execution_count": 134,
   "id": "ab2b372b",
   "metadata": {},
   "outputs": [
    {
     "data": {
      "text/plain": [
       "Source Port             22724\n",
       "Destination Port         3273\n",
       "NAT Source Port         29152\n",
       "NAT Destination Port     2533\n",
       "Bytes                   10724\n",
       "Bytes Sent               6683\n",
       "Bytes Received           8814\n",
       "Packets                  1116\n",
       "Elapsed Time (sec)        915\n",
       "pkts_sent                 749\n",
       "pkts_received             922\n",
       "Action                      4\n",
       "dtype: int64"
      ]
     },
     "execution_count": 134,
     "metadata": {},
     "output_type": "execute_result"
    }
   ],
   "source": [
    "df.nunique()"
   ]
  },
  {
   "cell_type": "markdown",
   "id": "8bb1131e",
   "metadata": {},
   "source": [
    "After completing the data analysis, I believe the data is now ready to initiate the machine learning modeling process, \n",
    "as I did not identify any missing values or gaps."
   ]
  },
  {
   "cell_type": "markdown",
   "id": "d7edda88",
   "metadata": {},
   "source": [
    "In the book Thoughtful MachineLearning with Python,they use a Decision Trees to Classifying Mushrooms \n",
    "and that is what i will do here in order to classifying the 4 categories – “allow, deny, drop, reset-both” \n",
    "in the incoming traffic to the firewall.\n",
    "Decision tree classification is a supervised learning algorithm mostly used in\n",
    "classification problems. Unlike the other model, decision trees can easily handle a mix\n",
    "of numeric and categorical attributes and can even classify data for which attributes are\n",
    "missing"
   ]
  },
  {
   "cell_type": "code",
   "execution_count": 135,
   "id": "9890e885",
   "metadata": {},
   "outputs": [],
   "source": [
    "from sklearn import tree\n",
    "from sklearn.tree import DecisionTreeClassifier\n",
    "from sklearn.model_selection import train_test_split\n",
    "from sklearn.metrics import accuracy_score, classification_report\n"
   ]
  },
  {
   "cell_type": "markdown",
   "id": "9fc27dcf",
   "metadata": {},
   "source": [
    "The sklearn import tree has many commnad in order to make a Decision Trees.\n",
    "in order to use a decision tree, all the data must be numerical and our \"Action\" column contains string values,\n",
    "so we need to address this by converting it to numerical data."
   ]
  },
  {
   "cell_type": "code",
   "execution_count": 136,
   "id": "a2398f89",
   "metadata": {},
   "outputs": [],
   "source": [
    "d = {'allow': 0, 'deny': 1, 'drop': 2, 'reset-both': 3}\n",
    "df['Action'] = df['Action'].map(d)"
   ]
  },
  {
   "cell_type": "code",
   "execution_count": 137,
   "id": "80668878",
   "metadata": {},
   "outputs": [
    {
     "data": {
      "text/html": [
       "<div>\n",
       "<style scoped>\n",
       "    .dataframe tbody tr th:only-of-type {\n",
       "        vertical-align: middle;\n",
       "    }\n",
       "\n",
       "    .dataframe tbody tr th {\n",
       "        vertical-align: top;\n",
       "    }\n",
       "\n",
       "    .dataframe thead th {\n",
       "        text-align: right;\n",
       "    }\n",
       "</style>\n",
       "<table border=\"1\" class=\"dataframe\">\n",
       "  <thead>\n",
       "    <tr style=\"text-align: right;\">\n",
       "      <th></th>\n",
       "      <th>Source Port</th>\n",
       "      <th>Destination Port</th>\n",
       "      <th>NAT Source Port</th>\n",
       "      <th>NAT Destination Port</th>\n",
       "      <th>Bytes</th>\n",
       "      <th>Bytes Sent</th>\n",
       "      <th>Bytes Received</th>\n",
       "      <th>Packets</th>\n",
       "      <th>Elapsed Time (sec)</th>\n",
       "      <th>pkts_sent</th>\n",
       "      <th>pkts_received</th>\n",
       "      <th>Action</th>\n",
       "    </tr>\n",
       "  </thead>\n",
       "  <tbody>\n",
       "    <tr>\n",
       "      <th>count</th>\n",
       "      <td>65,532.00</td>\n",
       "      <td>65,532.00</td>\n",
       "      <td>65,532.00</td>\n",
       "      <td>65,532.00</td>\n",
       "      <td>65,532.00</td>\n",
       "      <td>65,532.00</td>\n",
       "      <td>65,532.00</td>\n",
       "      <td>65,532.00</td>\n",
       "      <td>65,532.00</td>\n",
       "      <td>65,532.00</td>\n",
       "      <td>65,532.00</td>\n",
       "      <td>65,532.00</td>\n",
       "    </tr>\n",
       "    <tr>\n",
       "      <th>mean</th>\n",
       "      <td>49,391.97</td>\n",
       "      <td>10,577.39</td>\n",
       "      <td>19,282.97</td>\n",
       "      <td>2,671.05</td>\n",
       "      <td>97,123.95</td>\n",
       "      <td>22,385.80</td>\n",
       "      <td>74,738.15</td>\n",
       "      <td>102.87</td>\n",
       "      <td>65.83</td>\n",
       "      <td>41.40</td>\n",
       "      <td>61.47</td>\n",
       "      <td>0.62</td>\n",
       "    </tr>\n",
       "    <tr>\n",
       "      <th>std</th>\n",
       "      <td>15,255.71</td>\n",
       "      <td>18,466.03</td>\n",
       "      <td>21,970.69</td>\n",
       "      <td>9,739.16</td>\n",
       "      <td>5,618,438.91</td>\n",
       "      <td>3,828,138.65</td>\n",
       "      <td>2,463,207.71</td>\n",
       "      <td>5,133.00</td>\n",
       "      <td>302.46</td>\n",
       "      <td>3,218.87</td>\n",
       "      <td>2,223.33</td>\n",
       "      <td>0.79</td>\n",
       "    </tr>\n",
       "    <tr>\n",
       "      <th>min</th>\n",
       "      <td>0.00</td>\n",
       "      <td>0.00</td>\n",
       "      <td>0.00</td>\n",
       "      <td>0.00</td>\n",
       "      <td>60.00</td>\n",
       "      <td>60.00</td>\n",
       "      <td>0.00</td>\n",
       "      <td>1.00</td>\n",
       "      <td>0.00</td>\n",
       "      <td>1.00</td>\n",
       "      <td>0.00</td>\n",
       "      <td>0.00</td>\n",
       "    </tr>\n",
       "    <tr>\n",
       "      <th>25%</th>\n",
       "      <td>49,183.00</td>\n",
       "      <td>80.00</td>\n",
       "      <td>0.00</td>\n",
       "      <td>0.00</td>\n",
       "      <td>66.00</td>\n",
       "      <td>66.00</td>\n",
       "      <td>0.00</td>\n",
       "      <td>1.00</td>\n",
       "      <td>0.00</td>\n",
       "      <td>1.00</td>\n",
       "      <td>0.00</td>\n",
       "      <td>0.00</td>\n",
       "    </tr>\n",
       "    <tr>\n",
       "      <th>50%</th>\n",
       "      <td>53,776.50</td>\n",
       "      <td>445.00</td>\n",
       "      <td>8,820.50</td>\n",
       "      <td>53.00</td>\n",
       "      <td>168.00</td>\n",
       "      <td>90.00</td>\n",
       "      <td>79.00</td>\n",
       "      <td>2.00</td>\n",
       "      <td>15.00</td>\n",
       "      <td>1.00</td>\n",
       "      <td>1.00</td>\n",
       "      <td>0.00</td>\n",
       "    </tr>\n",
       "    <tr>\n",
       "      <th>75%</th>\n",
       "      <td>58,638.00</td>\n",
       "      <td>15,000.00</td>\n",
       "      <td>38,366.25</td>\n",
       "      <td>443.00</td>\n",
       "      <td>752.25</td>\n",
       "      <td>210.00</td>\n",
       "      <td>449.00</td>\n",
       "      <td>6.00</td>\n",
       "      <td>30.00</td>\n",
       "      <td>3.00</td>\n",
       "      <td>2.00</td>\n",
       "      <td>1.00</td>\n",
       "    </tr>\n",
       "    <tr>\n",
       "      <th>max</th>\n",
       "      <td>65,534.00</td>\n",
       "      <td>65,535.00</td>\n",
       "      <td>65,535.00</td>\n",
       "      <td>65,535.00</td>\n",
       "      <td>1,269,359,015.00</td>\n",
       "      <td>948,477,220.00</td>\n",
       "      <td>320,881,795.00</td>\n",
       "      <td>1,036,116.00</td>\n",
       "      <td>10,824.00</td>\n",
       "      <td>747,520.00</td>\n",
       "      <td>327,208.00</td>\n",
       "      <td>3.00</td>\n",
       "    </tr>\n",
       "  </tbody>\n",
       "</table>\n",
       "</div>"
      ],
      "text/plain": [
       "       Source Port  Destination Port  NAT Source Port  NAT Destination Port  \\\n",
       "count    65,532.00         65,532.00        65,532.00             65,532.00   \n",
       "mean     49,391.97         10,577.39        19,282.97              2,671.05   \n",
       "std      15,255.71         18,466.03        21,970.69              9,739.16   \n",
       "min           0.00              0.00             0.00                  0.00   \n",
       "25%      49,183.00             80.00             0.00                  0.00   \n",
       "50%      53,776.50            445.00         8,820.50                 53.00   \n",
       "75%      58,638.00         15,000.00        38,366.25                443.00   \n",
       "max      65,534.00         65,535.00        65,535.00             65,535.00   \n",
       "\n",
       "                 Bytes     Bytes Sent  Bytes Received      Packets  \\\n",
       "count        65,532.00      65,532.00       65,532.00    65,532.00   \n",
       "mean         97,123.95      22,385.80       74,738.15       102.87   \n",
       "std       5,618,438.91   3,828,138.65    2,463,207.71     5,133.00   \n",
       "min              60.00          60.00            0.00         1.00   \n",
       "25%              66.00          66.00            0.00         1.00   \n",
       "50%             168.00          90.00           79.00         2.00   \n",
       "75%             752.25         210.00          449.00         6.00   \n",
       "max   1,269,359,015.00 948,477,220.00  320,881,795.00 1,036,116.00   \n",
       "\n",
       "       Elapsed Time (sec)  pkts_sent  pkts_received    Action  \n",
       "count           65,532.00  65,532.00      65,532.00 65,532.00  \n",
       "mean                65.83      41.40          61.47      0.62  \n",
       "std                302.46   3,218.87       2,223.33      0.79  \n",
       "min                  0.00       1.00           0.00      0.00  \n",
       "25%                  0.00       1.00           0.00      0.00  \n",
       "50%                 15.00       1.00           1.00      0.00  \n",
       "75%                 30.00       3.00           2.00      1.00  \n",
       "max             10,824.00 747,520.00     327,208.00      3.00  "
      ]
     },
     "execution_count": 137,
     "metadata": {},
     "output_type": "execute_result"
    }
   ],
   "source": [
    "df.describe()"
   ]
  },
  {
   "cell_type": "markdown",
   "id": "9b6539c5",
   "metadata": {},
   "source": [
    "Then we have to separate the feature columns from the Action column.\n",
    "The feature columns are the columns that we try to predict from,\n",
    "and the target column is the column with the values we try to classifer."
   ]
  },
  {
   "cell_type": "code",
   "execution_count": 138,
   "id": "b18199ef",
   "metadata": {},
   "outputs": [],
   "source": [
    "features = ['Source Port', 'Destination Port', 'NAT Source Port', 'NAT Destination Port', 'Bytes', 'Bytes Sent', 'Bytes Received'\n",
    "           , 'Packets', 'Elapsed Time (sec)', 'pkts_sent', 'pkts_received']\n",
    "\n",
    "X = df[features]\n",
    "y = df['Action']\n"
   ]
  },
  {
   "cell_type": "markdown",
   "id": "6b505480",
   "metadata": {},
   "source": [
    "where we split the data in two parts, the variebles that will help us to classifier (in case x)\n",
    "and the one we will predicti ( in case Y) "
   ]
  },
  {
   "cell_type": "code",
   "execution_count": 139,
   "id": "05ac2502",
   "metadata": {},
   "outputs": [
    {
     "name": "stdout",
     "output_type": "stream",
     "text": [
      "       Source Port  Destination Port  NAT Source Port  NAT Destination Port  \\\n",
      "0            57222                53            54587                    53   \n",
      "1            56258              3389            56258                  3389   \n",
      "2             6881             50321            43265                 50321   \n",
      "3            50553              3389            50553                  3389   \n",
      "4            50002               443            45848                   443   \n",
      "...            ...               ...              ...                   ...   \n",
      "65527        63691                80            13237                    80   \n",
      "65528        50964                80            13485                    80   \n",
      "65529        54871               445                0                     0   \n",
      "65530        54870               445                0                     0   \n",
      "65531        54867               445                0                     0   \n",
      "\n",
      "         Bytes  Bytes Sent  Bytes Received  Packets  Elapsed Time (sec)  \\\n",
      "0          177          94              83        2                  30   \n",
      "1         4768        1600            3168       19                  17   \n",
      "2          238         118             120        2                1199   \n",
      "3         3327        1438            1889       15                  17   \n",
      "4        25358        6778           18580       31                  16   \n",
      "...        ...         ...             ...      ...                 ...   \n",
      "65527      314         192             122        6                  15   \n",
      "65528  4680740       67312         4613428     4675                  77   \n",
      "65529       70          70               0        1                   0   \n",
      "65530       70          70               0        1                   0   \n",
      "65531       70          70               0        1                   0   \n",
      "\n",
      "       pkts_sent  pkts_received  \n",
      "0              1              1  \n",
      "1             10              9  \n",
      "2              1              1  \n",
      "3              8              7  \n",
      "4             13             18  \n",
      "...          ...            ...  \n",
      "65527          4              2  \n",
      "65528        985           3690  \n",
      "65529          1              0  \n",
      "65530          1              0  \n",
      "65531          1              0  \n",
      "\n",
      "[65532 rows x 11 columns]\n"
     ]
    }
   ],
   "source": [
    "print(X)"
   ]
  },
  {
   "cell_type": "code",
   "execution_count": 140,
   "id": "28047ec8",
   "metadata": {},
   "outputs": [
    {
     "name": "stdout",
     "output_type": "stream",
     "text": [
      "0        0\n",
      "1        0\n",
      "2        0\n",
      "3        0\n",
      "4        0\n",
      "        ..\n",
      "65527    0\n",
      "65528    0\n",
      "65529    2\n",
      "65530    2\n",
      "65531    2\n",
      "Name: Action, Length: 65532, dtype: int64\n"
     ]
    }
   ],
   "source": [
    "print(y) "
   ]
  },
  {
   "cell_type": "code",
   "execution_count": 141,
   "id": "8365defd",
   "metadata": {},
   "outputs": [],
   "source": [
    "X_train, X_test, y_train, y_test = train_test_split(X, y, test_size=0.2, random_state=42)"
   ]
  },
  {
   "cell_type": "markdown",
   "id": "0e75fbae",
   "metadata": {},
   "source": [
    "Up we are traning the Decision Tree, \n",
    "test_size=0.2: This parameter determines the size of the test set relative to the entire dataset. \n",
    "In this case, it's set to 0.2, which means the test set will contain 20% of the data,\n",
    "while the training set will contain the remaining 80%.\n",
    "and the random_state=42: the random seed used by the random number generator.\n",
    "It ensures that the data is split in a reproducible manner."
   ]
  },
  {
   "cell_type": "code",
   "execution_count": 142,
   "id": "42d23c5a",
   "metadata": {},
   "outputs": [],
   "source": [
    "dtree = DecisionTreeClassifier()\n",
    "dtree = dtree.fit(X_train, y_train)"
   ]
  },
  {
   "cell_type": "markdown",
   "id": "e3df6966",
   "metadata": {},
   "source": [
    "Here is Where we create a decision tree, important concept from decision tree is known as Gini, also known as information gain.\n",
    "when we take this data and we run a decision tree algorithm on top of this data the very first thing that will happen here is\n",
    "decision tree algorithm has to decide how to create the tree. when creating a tree it needs to decide what should be the root node when\n",
    "I say what should be the root node the candidate for root nodes are all the independent variables in my data base ( this case = \n",
    "X = df[features]).\n",
    "let's say i take Bytes and Packets, now i hava two candidates of my root node for the decision tree that where gini take place,\n",
    "gini will compute the probability using the output of them and wherever it finds the minimum Gini index that particular\n",
    "split the particular column will be selected as the tree splitting criteria.\n"
   ]
  },
  {
   "cell_type": "code",
   "execution_count": 143,
   "id": "c990b593",
   "metadata": {},
   "outputs": [
    {
     "name": "stdout",
     "output_type": "stream",
     "text": [
      "show the total of accuracy 99.84%\n"
     ]
    }
   ],
   "source": [
    "predictions = dtree.predict(X_test)\n",
    "accuracy = accuracy_score(y_test, predictions)\n",
    "print(\"show the total of accuracy {:.2f}%\".format(accuracy * 100))"
   ]
  },
  {
   "cell_type": "code",
   "execution_count": 144,
   "id": "abbdf2c2",
   "metadata": {},
   "outputs": [],
   "source": [
    "from sklearn.metrics import f1_score\n",
    "\n",
    "f1 = f1_score(y_test, predictions, average='weighted')\n"
   ]
  },
  {
   "cell_type": "code",
   "execution_count": 152,
   "id": "e3c3fcc0",
   "metadata": {},
   "outputs": [
    {
     "name": "stdout",
     "output_type": "stream",
     "text": [
      "F1-score tree decission:99.84%\n"
     ]
    }
   ],
   "source": [
    "print(\"F1-score tree decission:{:.2f}%\".format(f1 * 100))"
   ]
  },
  {
   "cell_type": "code",
   "execution_count": null,
   "id": "402d6a12",
   "metadata": {},
   "outputs": [],
   "source": [
    "Achieving 99% accuracy and an F1-score of 99 is quite impressive. \n",
    "It indicates that the model is performing exceptionally well in classification tasks\n",
    "look a good perfor of decission tree."
   ]
  },
  {
   "cell_type": "code",
   "execution_count": 148,
   "id": "f08bf1a1",
   "metadata": {},
   "outputs": [
    {
     "name": "stdout",
     "output_type": "stream",
     "text": [
      "Previsões:\n",
      "[0 0 0 0 0 0 0 0 0 0]\n"
     ]
    }
   ],
   "source": [
    "predictions = dtree.predict(X)\n",
    "print(\"Previsões:\")\n",
    "print(predictions [:10] )"
   ]
  },
  {
   "cell_type": "markdown",
   "id": "89482744",
   "metadata": {},
   "source": [
    "Result in  nunbers."
   ]
  },
  {
   "cell_type": "code",
   "execution_count": 149,
   "id": "e8fe7f41",
   "metadata": {},
   "outputs": [],
   "source": [
    "reverse_d = {v: k for k, v in d.items()}\n",
    "predictions_names = [reverse_d[prediction] for prediction in predictions]"
   ]
  },
  {
   "cell_type": "markdown",
   "id": "aafd803d",
   "metadata": {},
   "source": [
    "i am create a new dictionary where the keys are the original values\n",
    "and the values are the original keys of the dictionary \"d\"."
   ]
  },
  {
   "cell_type": "code",
   "execution_count": 150,
   "id": "e8f1a6ea",
   "metadata": {},
   "outputs": [
    {
     "name": "stdout",
     "output_type": "stream",
     "text": [
      "Previsões:\n",
      "['allow', 'allow', 'allow', 'allow', 'allow', 'allow', 'allow', 'allow', 'allow', 'allow']\n"
     ]
    }
   ],
   "source": [
    "print(\"Previsões:\")\n",
    "print(predictions_names [:10])"
   ]
  },
  {
   "cell_type": "code",
   "execution_count": 65,
   "id": "3a45e344",
   "metadata": {},
   "outputs": [
    {
     "name": "stdout",
     "output_type": "stream",
     "text": [
      "[2]\n"
     ]
    }
   ],
   "source": [
    "print(dtree.predict([[4000, 450, 3423, 677,70,71230,2210,2022,0,330,220]])) "
   ]
  },
  {
   "cell_type": "code",
   "execution_count": null,
   "id": "38c3c65b",
   "metadata": {},
   "outputs": [],
   "source": [
    "new_predict = dtree.predict([[4000, 450, 3423, 677, 70, 71230, 2210, 2022, 0, 330, 220]])\n",
    "name= reverse_d[new_predict[0]]"
   ]
  },
  {
   "cell_type": "code",
   "execution_count": 73,
   "id": "25e5ecc5",
   "metadata": {},
   "outputs": [],
   "source": [
    "print(\"Label name:\", name)"
   ]
  },
  {
   "cell_type": "markdown",
   "id": "f9f91c57",
   "metadata": {},
   "source": [
    "Up are the values corresponding to those features: \n",
    "Source Port, Destination Port, NAT Source Port, NAT Destination Port, Bytes, Bytes Sent, Bytes Received, Packets,\n",
    "Elapsed Time (sec), pkts_sent, pkts_received.\n",
    "If you want to predict the traffic on a firewall."
   ]
  },
  {
   "cell_type": "markdown",
   "id": "0dc2d56a",
   "metadata": {},
   "source": [
    "As my secund classifier i chosse the support vector machines (SVMs). This algorithm uses\n",
    "decision boundaries to split data into multiple parts and operates well in higher\n",
    "dimensions due to feature transformation and ignoring distances between data\n",
    "points.Its primary objective is to find the optimal hyperplane that best separates data points \n",
    "belonging to different classes.\n",
    "\n",
    "\n"
   ]
  },
  {
   "cell_type": "code",
   "execution_count": 91,
   "id": "8acfd236",
   "metadata": {},
   "outputs": [
    {
     "data": {
      "image/png": "[encoded data removed]",
      "text/plain": [
       "<Figure size 432x288 with 1 Axes>"
      ]
     },
     "metadata": {
      "needs_background": "light"
     },
     "output_type": "display_data"
    }
   ],
   "source": [
    "import matplotlib.pyplot as plt\n",
    "df_subset = df.head(1000)\n",
    "\n",
    "\n",
    "plt.scatter(df_subset['Source Port'], df_subset['Destination Port'], c='k', label='Source Port')  \n",
    "plt.scatter(df_subset['NAT Source Port'], df_subset['Destination Port'], c='b', label='Destination Port') \n",
    "plt.xlabel('Source Port')\n",
    "plt.ylabel('Destination Port')\n",
    "plt.title('Scatter Plot of Source Port and Destination Port')\n",
    "plt.legend()\n",
    "plt.grid(True)\n",
    "plt.show()"
   ]
  },
  {
   "cell_type": "markdown",
   "id": "3a96dafe",
   "metadata": {},
   "source": [
    "I did a plot up in order to us visualize how bad the data is linearly separable, \n",
    "meaning we cant draw a straight line (or plane, or hyperplane in higher dimensions) to separate the classes.\n",
    "Becuse of that now we gonna use The Radial Basis Function (RBF) Kernel is one of the most commonly used kernel functions\n",
    "in Support Vector Machines (SVM).\n",
    "It's particularly effective for handling non-linearly separable data.\n",
    " \n"
   ]
  },
  {
   "cell_type": "code",
   "execution_count": null,
   "id": "4ec676f2",
   "metadata": {},
   "outputs": [],
   "source": [
    "\n"
   ]
  },
  {
   "cell_type": "code",
   "execution_count": null,
   "id": "d31f673a",
   "metadata": {},
   "outputs": [],
   "source": [
    "\n"
   ]
  },
  {
   "cell_type": "code",
   "execution_count": null,
   "id": "22456335",
   "metadata": {},
   "outputs": [],
   "source": [
    "\n"
   ]
  },
  {
   "cell_type": "code",
   "execution_count": null,
   "id": "a88291e0",
   "metadata": {},
   "outputs": [],
   "source": [
    "\n",
    "\n"
   ]
  },
  {
   "cell_type": "code",
   "execution_count": null,
   "id": "ea5936c8",
   "metadata": {},
   "outputs": [],
   "source": []
  },
  {
   "cell_type": "code",
   "execution_count": null,
   "id": "a9981611",
   "metadata": {},
   "outputs": [],
   "source": []
  }
 ],
 "metadata": {
  "kernelspec": {
   "display_name": "Python 3 (ipykernel)",
   "language": "python",
   "name": "python3"
  },
  "language_info": {
   "codemirror_mode": {
    "name": "ipython",
    "version": 3
   },
   "file_extension": ".py",
   "mimetype": "text/x-python",
   "name": "python",
   "nbconvert_exporter": "python",
   "pygments_lexer": "ipython3",
   "version": "3.9.7"
  }
 },
 "nbformat": 4,
 "nbformat_minor": 5
}
